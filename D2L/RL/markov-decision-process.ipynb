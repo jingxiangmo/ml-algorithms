{
 "cells": [
  {
   "attachments": {},
   "cell_type": "markdown",
   "metadata": {},
   "source": [
    "# Markov Decision Process (MDP)\n",
    "\n",
    "**state space** := set of all possible states\n",
    "\n",
    "**action space** := set of all possible actions\n",
    "\n",
    "**transition function** := probabilitydistribution of next state given the current state\n",
    "\n",
    "**reward function** := maps state-action pair to numerical reward\n",
    "\n",
    "**discount factor** := value between 0 and 1 that determines importance of immediate and future rewards"
   ]
  },
  {
   "cell_type": "code",
   "execution_count": null,
   "metadata": {
    "vscode": {
     "languageId": "plaintext"
    }
   },
   "outputs": [],
   "source": []
  }
 ],
 "metadata": {
  "language_info": {
   "name": "python"
  },
  "orig_nbformat": 4
 },
 "nbformat": 4,
 "nbformat_minor": 2
}
